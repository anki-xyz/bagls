{
 "cells": [
  {
   "cell_type": "code",
   "execution_count": null,
   "metadata": {},
   "outputs": [],
   "source": [
    "import numpy as np\n",
    "\n",
    "# For loading model\n",
    "from keras.models import load_model\n",
    "# from segmentation_models.losses import dice_loss\n",
    "\n",
    "# For loading images and computing the Intersection over Union (IoU)\n",
    "from Utils.Util import IoU, load\n",
    "\n",
    "# Plotting examples\n",
    "import matplotlib.pyplot as plt\n",
    "%matplotlib inline\n",
    "\n",
    "# Showing progress\n",
    "from tqdm import tqdm_notebook"
   ]
  },
  {
   "cell_type": "code",
   "execution_count": null,
   "metadata": {
    "scrolled": true
   },
   "outputs": [],
   "source": [
    "Unet = load_model(\"Unet.h5\", compile=False)"
   ]
  },
  {
   "cell_type": "code",
   "execution_count": null,
   "metadata": {},
   "outputs": [],
   "source": [
    "TEST_PATH = \"C:/BAGLS/test/\"\n",
    "\n",
    "# All test images\n",
    "N = 3500 \n",
    "\n",
    "test_imgs = [TEST_PATH + str(i) + \".png\" for i in range(N)]\n",
    "test_segs = [TEST_PATH + str(i) + \"_seg.png\" for i in range(N)]"
   ]
  },
  {
   "cell_type": "code",
   "execution_count": null,
   "metadata": {
    "scrolled": false
   },
   "outputs": [],
   "source": [
    "ground_truths = []\n",
    "predictions = []\n",
    "\n",
    "# Iterate across test set\n",
    "for i, (im_fn, gt_fn) in enumerate(tqdm_notebook(zip(test_imgs, test_segs), total=N)):\n",
    "    # Load and pre-process images\n",
    "    im, gt = load(im_fn, gt_fn)\n",
    "    \n",
    "    # Predict segmentation using the trained deep neural network\n",
    "    pr = Unet.predict(im[None,...,None]).round().squeeze()\n",
    "    \n",
    "    ground_truths.append(gt)\n",
    "    predictions.append(pr)\n",
    "    \n",
    "    if i == 0:\n",
    "        # Show example segmentation of the network\n",
    "        # Left to right: Image input, ground truth, prediction\n",
    "        plt.figure(figsize=(12,5))\n",
    "        plt.title(\"Predicting segmentation of {}, IoU = {:.3f}\".format(im_fn, IoU([gt], [pr]).mean(0)))\n",
    "        plt.imshow(np.hstack((im, gt, pr)), cmap='gray')\n",
    "        \n",
    "IoUs = IoU(ground_truths, predictions)\n",
    "print(\"Mean IoU across test set: \", IoUs.mean(0))"
   ]
  },
  {
   "cell_type": "code",
   "execution_count": 5,
   "metadata": {
    "scrolled": true
   },
   "outputs": [
    {
     "data": {
      "image/png": "[encoded data removed]",
      "text/plain": [
       "<Figure size 432x288 with 1 Axes>"
      ]
     },
     "metadata": {
      "needs_background": "light"
     },
     "output_type": "display_data"
    }
   ],
   "source": [
    "vals, bins = np.histogram(IoUs, bins=np.linspace(0,1))\n",
    "\n",
    "plt.title(\"IoU distribution across test set\")\n",
    "plt.plot(bins[1:], vals.cumsum()/vals.cumsum().max())\n",
    "plt.xlabel('IoU')\n",
    "plt.ylabel('Cumulative frequency');"
   ]
  }
 ],
 "metadata": {
  "kernelspec": {
   "display_name": "Python 3",
   "language": "python",
   "name": "python3"
  },
  "language_info": {
   "codemirror_mode": {
    "name": "ipython",
    "version": 3
   },
   "file_extension": ".py",
   "mimetype": "text/x-python",
   "name": "python",
   "nbconvert_exporter": "python",
   "pygments_lexer": "ipython3",
   "version": "3.6.8"
  }
 },
 "nbformat": 4,
 "nbformat_minor": 2
}