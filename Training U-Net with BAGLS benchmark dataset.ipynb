{
 "cells": [
  {
   "cell_type": "markdown",
   "metadata": {},
   "source": [
    "# Training U-Net for BAGLS dataset"
   ]
  },
  {
   "cell_type": "markdown",
   "metadata": {},
   "source": [
    "Load needed components"
   ]
  },
  {
   "cell_type": "code",
   "execution_count": null,
   "metadata": {},
   "outputs": [],
   "source": [
    "import numpy as np\n",
    "import keras\n",
    "from keras.optimizers import Adam\n",
    "import tensorflow as tf\n",
    "import random\n",
    "\n",
    "# Splitting train and validation data\n",
    "from sklearn.model_selection import train_test_split\n",
    "\n",
    "# Loss and evaluation metric\n",
    "from segmentation_models.losses import dice_loss\n",
    "from segmentation_models.metrics import iou_score"
   ]
  },
  {
   "cell_type": "code",
   "execution_count": null,
   "metadata": {},
   "outputs": [],
   "source": [
    "# Location of the training data and path to store the saved model\n",
    "TRAINING_PATH = \"C:/BAGLS/training/\"\n",
    "MODEL_PATH = \"Unet.h5\""
   ]
  },
  {
   "cell_type": "markdown",
   "metadata": {},
   "source": [
    "## Data pre-processing and dynamic feeding"
   ]
  },
  {
   "cell_type": "markdown",
   "metadata": {},
   "source": [
    "We use a [data generator](https://stanford.edu/~shervine/blog/keras-how-to-generate-data-on-the-fly) to load images online during training and to parallelize the data pre-processing (e.g. image augmentation)."
   ]
  },
  {
   "cell_type": "code",
   "execution_count": null,
   "metadata": {},
   "outputs": [],
   "source": [
    "from Utils.DataGenerator import DataGenerator"
   ]
  },
  {
   "cell_type": "markdown",
   "metadata": {},
   "source": [
    "## Custom callbacks"
   ]
  },
  {
   "cell_type": "markdown",
   "metadata": {},
   "source": [
    "We use custom callbacks, in detail\n",
    "\n",
    "- Cyclic learning rate ($10^{-3}$ to $10^{-6}$)\n",
    "- Saving model if validation IoU is greater than the previous one\n",
    "- TQDM-based progress bar"
   ]
  },
  {
   "cell_type": "code",
   "execution_count": null,
   "metadata": {},
   "outputs": [],
   "source": [
    "from Utils.Callbacks import get_callbacks"
   ]
  },
  {
   "cell_type": "markdown",
   "metadata": {},
   "source": [
    "## Load neural network components and build U-Net"
   ]
  },
  {
   "cell_type": "code",
   "execution_count": null,
   "metadata": {},
   "outputs": [],
   "source": [
    "from Utils.Unet import Unet"
   ]
  },
  {
   "cell_type": "code",
   "execution_count": null,
   "metadata": {
    "scrolled": false
   },
   "outputs": [],
   "source": [
    "model = Unet()\n",
    "model.summary()"
   ]
  },
  {
   "cell_type": "markdown",
   "metadata": {},
   "source": [
    "Load Images"
   ]
  },
  {
   "cell_type": "code",
   "execution_count": null,
   "metadata": {},
   "outputs": [],
   "source": [
    "# All training images\n",
    "N = 55750 \n",
    "\n",
    "train_imgs = [TRAINING_PATH + str(i) + \".png\" for i in range(N)]\n",
    "train_segs = [TRAINING_PATH + str(i) + \"_seg.png\" for i in range(N)]"
   ]
  },
  {
   "cell_type": "markdown",
   "metadata": {},
   "source": [
    "## Training"
   ]
  },
  {
   "cell_type": "code",
   "execution_count": null,
   "metadata": {
    "scrolled": false
   },
   "outputs": [],
   "source": [
    "# Set random seed for reproducible training\n",
    "SEED = 42\n",
    "np.random.seed(SEED)\n",
    "tf.set_random_seed(SEED)\n",
    "random.seed(SEED)\n",
    "\n",
    "# Define training parameters\n",
    "BATCH_SIZE = 16 # adjust for your graphics card\n",
    "LEARNING_RATE = 10e-3\n",
    "EPOCHS = 25\n",
    "\n",
    "# Hard split of training and validation data\n",
    "X, X_val, y, y_val = train_test_split(train_imgs,\n",
    "                              train_segs,\n",
    "                              test_size=0.05,\n",
    "                              random_state=SEED)\n",
    "\n",
    "# Augment and shuffle training data\n",
    "train_gen = DataGenerator(X,\n",
    "                          y,\n",
    "                          BATCH_SIZE, \n",
    "                          augment=True, \n",
    "                          shuffle=True)\n",
    "\n",
    "# Do not augment and shuffle validation data\n",
    "val_gen = DataGenerator(X_val, \n",
    "                        y_val, \n",
    "                        BATCH_SIZE, \n",
    "                        augment=False, \n",
    "                        shuffle=False)\n",
    "\n",
    "# Compile model with optimizer (Adam with Cyclic Learning Rate)\n",
    "#  and DICE loss\n",
    "model.compile(optimizer=Adam(),\n",
    "              loss = dice_loss,\n",
    "              metrics = ['accuracy',\n",
    "                         iou_score])\n",
    "\n",
    "# Create custom callbacks for saving model and cyclic learning rate\n",
    "callbacks = get_callbacks(MODEL_PATH)\n",
    "\n",
    "# Fit the neural network\n",
    "history = model.fit_generator(\n",
    "            # Training generator (with shuffling and augmentation)\n",
    "            generator=train_gen,\n",
    "            # Validation generator (no shuffling and augmentation)\n",
    "            validation_data=val_gen,\n",
    "            # Train for EPOCHS \n",
    "            epochs=EPOCHS, \n",
    "            # No output\n",
    "            verbose=0,\n",
    "            # Multiprocessing for data pre-processing\n",
    "            use_multiprocessing=True, \n",
    "            # How many cores are utilized in multiprocessing, adjust for your CPU cores\n",
    "            workers=10, \n",
    "            # Batches in memory\n",
    "            max_queue_size=32,\n",
    "            # Custom Callbacks\n",
    "            callbacks=callbacks)"
   ]
  }
 ],
 "metadata": {
  "kernelspec": {
   "display_name": "Python 3",
   "language": "python",
   "name": "python3"
  },
  "language_info": {
   "codemirror_mode": {
    "name": "ipython",
    "version": 3
   },
   "file_extension": ".py",
   "mimetype": "text/x-python",
   "name": "python",
   "nbconvert_exporter": "python",
   "pygments_lexer": "ipython3",
   "version": "3.6.2"
  }
 },
 "nbformat": 4,
 "nbformat_minor": 2
}
